{
 "cells": [
  {
   "cell_type": "markdown",
   "metadata": {},
   "source": [
    "# Federal Election Committee Data\n",
    "\n",
    "Performing exploratory data analysis on the FEC data of money exchanged during the 2016 election. I will be looking at the data found at the [FEC website](http://classic.fec.gov/finance/disclosure/ftpdet.shtml#a2015_2016). The specific files that I downloaded were the Committee Master file, Candidate Master file, and Contributions by Individuals. The Contributions by Individuals file is very large and therefore I will be looking specifically at contributions from individuals in Berkeley, CA. \n",
    "\n",
    "I have two goals for this project. \n",
    "\n",
    "- Answer questions by computing descriptive statistics on the data\n",
    "- Conduct a hypothesis test\n",
    "\n",
    "I will complete almost all of this project using SQL. A small portion will rely on the use of pandas dataframes in Python."
   ]
  },
  {
   "cell_type": "code",
   "execution_count": 133,
   "metadata": {
    "collapsed": true
   },
   "outputs": [],
   "source": [
    "import numpy as np\n",
    "import pandas as pd\n",
    "%matplotlib inline\n",
    "import matplotlib.pyplot as plt\n",
    "import seaborn as sns\n",
    "sns.set()\n",
    "import sqlalchemy"
   ]
  },
  {
   "cell_type": "markdown",
   "metadata": {},
   "source": [
    "## Postgres\n",
    "\n",
    "I am hosting the data through Heroku Postgres. I loaded the data into the Heroku Database and can connect to it using the URI that I was provided. For security reasons, I am not posting my personal Heroku URI, but this will not affect the notebook or what is displayed."
   ]
  },
  {
   "cell_type": "code",
   "execution_count": 22,
   "metadata": {},
   "outputs": [],
   "source": [
    "my_URI = 'postgres://uri'\n",
    "%reload_ext sql\n",
    "%sql $my_URI\n",
    "engine = sqlalchemy.create_engine(my_URI)\n",
    "connection = engine.connect()"
   ]
  },
  {
   "cell_type": "markdown",
   "metadata": {},
   "source": [
    "## Table Descriptions\n",
    "\n",
    "Here is a list of the tables in the database.  Each table links to the documentation on the [FEC page](http://www.fec.gov/finance/disclosure/ftpdet.shtml) for the dataset.\n",
    "\n",
    "- [`cand`](http://www.fec.gov/finance/disclosure/metadata/DataDictionaryCandidateMaster.shtml): Candidates table. Contains names and party affiliation.\n",
    "- [`comm`](http://www.fec.gov/finance/disclosure/metadata/DataDictionaryCommitteeMaster.shtml): Committees table. Contains committee names and types.\n",
    "- [`indiv_sample`](http://www.fec.gov/finance/disclosure/metadata/DataDictionaryContributionsbyIndividuals.shtml): Sample of individual contributions from Berkeley.\n",
    "- [`indiv_sample_top`](http://www.fec.gov/finance/disclosure/metadata/DataDictionaryContributionsbyIndividuals.shtml): Sample of individual contributions from the top contributors at Berkeley."
   ]
  },
  {
   "cell_type": "code",
   "execution_count": 59,
   "metadata": {},
   "outputs": [
    {
     "name": "stdout",
     "output_type": "stream",
     "text": [
      "5 rows affected.\n"
     ]
    },
    {
     "data": {
      "text/html": [
       "<table>\n",
       "    <tr>\n",
       "        <th>cmte_id</th>\n",
       "        <th>amndt_ind</th>\n",
       "        <th>rpt_tp</th>\n",
       "        <th>transaction_pgi</th>\n",
       "        <th>image_num</th>\n",
       "        <th>transaction_tp</th>\n",
       "        <th>entity_tp</th>\n",
       "        <th>name</th>\n",
       "        <th>city</th>\n",
       "        <th>state</th>\n",
       "        <th>zip_code</th>\n",
       "        <th>employer</th>\n",
       "        <th>occupation</th>\n",
       "        <th>transaction_dt</th>\n",
       "        <th>transaction_amt</th>\n",
       "        <th>other_id</th>\n",
       "        <th>tran_id</th>\n",
       "        <th>file_num</th>\n",
       "        <th>memo_cd</th>\n",
       "        <th>memo_text</th>\n",
       "        <th>sub_id</th>\n",
       "    </tr>\n",
       "    <tr>\n",
       "        <td>C00404525</td>\n",
       "        <td>N</td>\n",
       "        <td>YE</td>\n",
       "        <td>P    </td>\n",
       "        <td>201601050300036659</td>\n",
       "        <td>15</td>\n",
       "        <td>IND</td>\n",
       "        <td>KURZWEIL, JACK</td>\n",
       "        <td>BERKELEY</td>\n",
       "        <td>CA</td>\n",
       "        <td>94703</td>\n",
       "        <td>RETIRED</td>\n",
       "        <td>RETIRED</td>\n",
       "        <td>10062015</td>\n",
       "        <td>500</td>\n",
       "        <td>None</td>\n",
       "        <td>SA01271666597</td>\n",
       "        <td>1043014</td>\n",
       "        <td>None</td>\n",
       "        <td>None</td>\n",
       "        <td>2012820161261113255</td>\n",
       "    </tr>\n",
       "    <tr>\n",
       "        <td>C00577130</td>\n",
       "        <td>A</td>\n",
       "        <td>M6</td>\n",
       "        <td>P    </td>\n",
       "        <td>201608159022353532</td>\n",
       "        <td>15E</td>\n",
       "        <td>IND</td>\n",
       "        <td>LENHOFF, BERNIE</td>\n",
       "        <td>BERKELEY</td>\n",
       "        <td>CA</td>\n",
       "        <td>947031658</td>\n",
       "        <td>ARBORICULTURAL SPECIALTIES</td>\n",
       "        <td>MANAGER</td>\n",
       "        <td>05042016</td>\n",
       "        <td>15</td>\n",
       "        <td>C00401224</td>\n",
       "        <td>VPF7BPFVV37</td>\n",
       "        <td>1094141</td>\n",
       "        <td>None</td>\n",
       "        <td>* EARMARKED CONTRIBUTION: SEE BELOW</td>\n",
       "        <td>4081720161312601930</td>\n",
       "    </tr>\n",
       "    <tr>\n",
       "        <td>C00193433</td>\n",
       "        <td>N</td>\n",
       "        <td>M8</td>\n",
       "        <td>None</td>\n",
       "        <td>201508149000826883</td>\n",
       "        <td>15</td>\n",
       "        <td>IND</td>\n",
       "        <td>MURRA, LAURA S MS.</td>\n",
       "        <td>BERKELEY</td>\n",
       "        <td>CA</td>\n",
       "        <td>94708</td>\n",
       "        <td>NONE</td>\n",
       "        <td>NONE</td>\n",
       "        <td>07012015</td>\n",
       "        <td>60</td>\n",
       "        <td>None</td>\n",
       "        <td>4356366</td>\n",
       "        <td>1021594</td>\n",
       "        <td>None</td>\n",
       "        <td>None</td>\n",
       "        <td>4081720151248947285</td>\n",
       "    </tr>\n",
       "    <tr>\n",
       "        <td>C00042366</td>\n",
       "        <td>A</td>\n",
       "        <td>30G</td>\n",
       "        <td>P    </td>\n",
       "        <td>201612080200695092</td>\n",
       "        <td>15E</td>\n",
       "        <td>IND</td>\n",
       "        <td>FISHER, BRIGITTE</td>\n",
       "        <td>BERKELEY</td>\n",
       "        <td>CA</td>\n",
       "        <td>947052825</td>\n",
       "        <td>NONE</td>\n",
       "        <td>NOT EMPLOYED</td>\n",
       "        <td>11042016</td>\n",
       "        <td>50</td>\n",
       "        <td>C00401224</td>\n",
       "        <td>SA011717509239506</td>\n",
       "        <td>1139429</td>\n",
       "        <td>None</td>\n",
       "        <td>* EARMARKED CONTRIBUTION: SEE BELOW</td>\n",
       "        <td>1060820170035181652</td>\n",
       "    </tr>\n",
       "    <tr>\n",
       "        <td>C00577130</td>\n",
       "        <td>A</td>\n",
       "        <td>M3</td>\n",
       "        <td>P    </td>\n",
       "        <td>201606169018323111</td>\n",
       "        <td>15E</td>\n",
       "        <td>IND</td>\n",
       "        <td>RISING, TODD</td>\n",
       "        <td>BERKELEY</td>\n",
       "        <td>CA</td>\n",
       "        <td>947021513</td>\n",
       "        <td>ADAM BEYDA, PSY.D</td>\n",
       "        <td>PSYCHOLOGICAL ASSISTANT</td>\n",
       "        <td>02212016</td>\n",
       "        <td>27</td>\n",
       "        <td>C00401224</td>\n",
       "        <td>VPF7BKE39K0</td>\n",
       "        <td>1077916</td>\n",
       "        <td>None</td>\n",
       "        <td>* EARMARKED CONTRIBUTION: SEE BELOW</td>\n",
       "        <td>4063020161300916281</td>\n",
       "    </tr>\n",
       "</table>"
      ],
      "text/plain": [
       "[('C00404525', 'N', 'YE', 'P    ', 201601050300036659, '15', 'IND', 'KURZWEIL, JACK', 'BERKELEY', 'CA', '94703', 'RETIRED', 'RETIRED', '10062015', 500, None, 'SA01271666597', 1043014, None, None, 2012820161261113255),\n",
       " ('C00577130', 'A', 'M6', 'P    ', 201608159022353532, '15E', 'IND', 'LENHOFF, BERNIE', 'BERKELEY', 'CA', '947031658', 'ARBORICULTURAL SPECIALTIES', 'MANAGER', '05042016', 15, 'C00401224', 'VPF7BPFVV37', 1094141, None, '* EARMARKED CONTRIBUTION: SEE BELOW', 4081720161312601930),\n",
       " ('C00193433', 'N', 'M8', None, 201508149000826883, '15', 'IND', 'MURRA, LAURA S MS.', 'BERKELEY', 'CA', '94708', 'NONE', 'NONE', '07012015', 60, None, '4356366', 1021594, None, None, 4081720151248947285),\n",
       " ('C00042366', 'A', '30G', 'P    ', 201612080200695092, '15E', 'IND', 'FISHER, BRIGITTE', 'BERKELEY', 'CA', '947052825', 'NONE', 'NOT EMPLOYED', '11042016', 50, 'C00401224', 'SA011717509239506', 1139429, None, '* EARMARKED CONTRIBUTION: SEE BELOW', 1060820170035181652),\n",
       " ('C00577130', 'A', 'M3', 'P    ', 201606169018323111, '15E', 'IND', 'RISING, TODD', 'BERKELEY', 'CA', '947021513', 'ADAM BEYDA, PSY.D', 'PSYCHOLOGICAL ASSISTANT', '02212016', 27, 'C00401224', 'VPF7BKE39K0', 1077916, None, '* EARMARKED CONTRIBUTION: SEE BELOW', 4063020161300916281)]"
      ]
     },
     "execution_count": 59,
     "metadata": {},
     "output_type": "execute_result"
    }
   ],
   "source": [
    "%sql SELECT * FROM indiv_sample LIMIT 5"
   ]
  },
  {
   "cell_type": "code",
   "execution_count": 25,
   "metadata": {},
   "outputs": [
    {
     "name": "stdout",
     "output_type": "stream",
     "text": [
      "5 rows affected.\n"
     ]
    },
    {
     "data": {
      "text/html": [
       "<table>\n",
       "    <tr>\n",
       "        <th>cand_id</th>\n",
       "        <th>cand_name</th>\n",
       "    </tr>\n",
       "    <tr>\n",
       "        <td>H0CA03078</td>\n",
       "        <td>BERA, AMERISH</td>\n",
       "    </tr>\n",
       "    <tr>\n",
       "        <td>H0CA15148</td>\n",
       "        <td>HONDA, MIKE</td>\n",
       "    </tr>\n",
       "    <tr>\n",
       "        <td>H2AZ09019</td>\n",
       "        <td>SINEMA, KYRSTEN</td>\n",
       "    </tr>\n",
       "    <tr>\n",
       "        <td>H2CA00120</td>\n",
       "        <td>BROWNLEY, JULIA</td>\n",
       "    </tr>\n",
       "    <tr>\n",
       "        <td>H2CA06259</td>\n",
       "        <td>HUFFMAN, JARED</td>\n",
       "    </tr>\n",
       "</table>"
      ],
      "text/plain": [
       "[('H0CA03078', 'BERA, AMERISH'),\n",
       " ('H0CA15148', 'HONDA, MIKE'),\n",
       " ('H2AZ09019', 'SINEMA, KYRSTEN'),\n",
       " ('H2CA00120', 'BROWNLEY, JULIA'),\n",
       " ('H2CA06259', 'HUFFMAN, JARED')]"
      ]
     },
     "execution_count": 25,
     "metadata": {},
     "output_type": "execute_result"
    }
   ],
   "source": [
    "query = '''\n",
    "SELECT cand_id, cand_name\n",
    "FROM cand\n",
    "WHERE cand_pty_affiliation = 'DEM'\n",
    "LIMIT 5\n",
    "'''\n",
    "\n",
    "%sql $query"
   ]
  },
  {
   "cell_type": "markdown",
   "metadata": {},
   "source": [
    "## Large Donors\n",
    "\n",
    "I am interesting in looking at the individuals who donated large sums of money. In this query, I am using COUNT to see how many individuals donated over $3000 in a single transaction. "
   ]
  },
  {
   "cell_type": "code",
   "execution_count": 31,
   "metadata": {},
   "outputs": [
    {
     "name": "stdout",
     "output_type": "stream",
     "text": [
      "1 rows affected.\n"
     ]
    },
    {
     "data": {
      "text/html": [
       "<table>\n",
       "    <tr>\n",
       "        <th>count</th>\n",
       "    </tr>\n",
       "    <tr>\n",
       "        <td>4</td>\n",
       "    </tr>\n",
       "</table>"
      ],
      "text/plain": [
       "[(4,)]"
      ]
     },
     "execution_count": 31,
     "metadata": {},
     "output_type": "execute_result"
    }
   ],
   "source": [
    "query = \"\"\"\n",
    "SELECT COUNT(*)\n",
    "FROM indiv_sample\n",
    "WHERE transaction_amt > 3000\n",
    "\"\"\"\n",
    "%sql $query"
   ]
  },
  {
   "cell_type": "markdown",
   "metadata": {},
   "source": [
    "It is interesting to find that there are only 4 individuals who donated a sum of money over $3000 in a single transaction. Since there is a small number of individuals I can make a table that shows all of these individuals."
   ]
  },
  {
   "cell_type": "code",
   "execution_count": 32,
   "metadata": {},
   "outputs": [
    {
     "name": "stdout",
     "output_type": "stream",
     "text": [
      "4 rows affected.\n"
     ]
    },
    {
     "data": {
      "text/html": [
       "<table>\n",
       "    <tr>\n",
       "        <th>committee_id</th>\n",
       "        <th>name</th>\n",
       "        <th>transaction_amt</th>\n",
       "    </tr>\n",
       "    <tr>\n",
       "        <td>C00586537</td>\n",
       "        <td>GUND, LOUISE LAIDLAW</td>\n",
       "        <td>25000</td>\n",
       "    </tr>\n",
       "    <tr>\n",
       "        <td>C00000935</td>\n",
       "        <td>FIDDLER, JERRY</td>\n",
       "        <td>10000</td>\n",
       "    </tr>\n",
       "    <tr>\n",
       "        <td>C00586537</td>\n",
       "        <td>LAPPEN, DAVID</td>\n",
       "        <td>5000</td>\n",
       "    </tr>\n",
       "    <tr>\n",
       "        <td>C00401224</td>\n",
       "        <td>LUEVANO, ROSA</td>\n",
       "        <td>5000</td>\n",
       "    </tr>\n",
       "</table>"
      ],
      "text/plain": [
       "[('C00586537', 'GUND, LOUISE LAIDLAW', 25000),\n",
       " ('C00000935', 'FIDDLER, JERRY', 10000),\n",
       " ('C00586537', 'LAPPEN, DAVID', 5000),\n",
       " ('C00401224', 'LUEVANO, ROSA', 5000)]"
      ]
     },
     "execution_count": 32,
     "metadata": {},
     "output_type": "execute_result"
    }
   ],
   "source": [
    "query = \"\"\"\n",
    "SELECT \n",
    "    cmte_id AS committee_id,\n",
    "    name AS name,\n",
    "    transaction_amt AS transaction_amt\n",
    "FROM indiv_sample\n",
    "WHERE transaction_amt > 3000\n",
    "ORDER BY transaction_amt DESC, name;\n",
    "\"\"\"\n",
    "\n",
    "%sql $query"
   ]
  },
  {
   "cell_type": "markdown",
   "metadata": {},
   "source": [
    "Single transactions can be misleading. To best understand individual donors it will be far more insightful to aggregate the total sum of donations. "
   ]
  },
  {
   "cell_type": "code",
   "execution_count": 30,
   "metadata": {},
   "outputs": [
    {
     "name": "stdout",
     "output_type": "stream",
     "text": [
      "20 rows affected.\n"
     ]
    },
    {
     "data": {
      "text/html": [
       "<table>\n",
       "    <tr>\n",
       "        <th>name</th>\n",
       "        <th>total_transaction_amt</th>\n",
       "    </tr>\n",
       "    <tr>\n",
       "        <td>GUND, LOUISE LAIDLAW</td>\n",
       "        <td>25000</td>\n",
       "    </tr>\n",
       "    <tr>\n",
       "        <td>FIDDLER, JERRY</td>\n",
       "        <td>10000</td>\n",
       "    </tr>\n",
       "    <tr>\n",
       "        <td>SHENKER, SCOTT</td>\n",
       "        <td>8000</td>\n",
       "    </tr>\n",
       "    <tr>\n",
       "        <td>BERLEKAMP, ELWYN</td>\n",
       "        <td>5550</td>\n",
       "    </tr>\n",
       "    <tr>\n",
       "        <td>ABRAMS, DENISE</td>\n",
       "        <td>5400</td>\n",
       "    </tr>\n",
       "    <tr>\n",
       "        <td>LAPPEN, DAVID</td>\n",
       "        <td>5000</td>\n",
       "    </tr>\n",
       "    <tr>\n",
       "        <td>LUEVANO, ROSA</td>\n",
       "        <td>5000</td>\n",
       "    </tr>\n",
       "    <tr>\n",
       "        <td>BERNHARDT, ANTHONY</td>\n",
       "        <td>3200</td>\n",
       "    </tr>\n",
       "    <tr>\n",
       "        <td>HUFF, GERALD</td>\n",
       "        <td>3200</td>\n",
       "    </tr>\n",
       "    <tr>\n",
       "        <td>BIRD, KAREN</td>\n",
       "        <td>2700</td>\n",
       "    </tr>\n",
       "    <tr>\n",
       "        <td>EPSTEIN, BOB</td>\n",
       "        <td>2700</td>\n",
       "    </tr>\n",
       "    <tr>\n",
       "        <td>HAHN, SOPHIE</td>\n",
       "        <td>2700</td>\n",
       "    </tr>\n",
       "    <tr>\n",
       "        <td>JOSEPH, DAVID</td>\n",
       "        <td>2700</td>\n",
       "    </tr>\n",
       "    <tr>\n",
       "        <td>LITTMANN, NICOLE</td>\n",
       "        <td>2700</td>\n",
       "    </tr>\n",
       "    <tr>\n",
       "        <td>LOGAN, JONATHAN</td>\n",
       "        <td>2700</td>\n",
       "    </tr>\n",
       "    <tr>\n",
       "        <td>REINIS, JONATHAN ROY</td>\n",
       "        <td>2700</td>\n",
       "    </tr>\n",
       "    <tr>\n",
       "        <td>SEIBEL, PETER</td>\n",
       "        <td>2700</td>\n",
       "    </tr>\n",
       "    <tr>\n",
       "        <td>SHAPIRO, CARL</td>\n",
       "        <td>2700</td>\n",
       "    </tr>\n",
       "    <tr>\n",
       "        <td>TAYLOR, JEROME</td>\n",
       "        <td>2700</td>\n",
       "    </tr>\n",
       "    <tr>\n",
       "        <td>WILNER, DAVID</td>\n",
       "        <td>2700</td>\n",
       "    </tr>\n",
       "</table>"
      ],
      "text/plain": [
       "[('GUND, LOUISE LAIDLAW', 25000),\n",
       " ('FIDDLER, JERRY', 10000),\n",
       " ('SHENKER, SCOTT', 8000),\n",
       " ('BERLEKAMP, ELWYN', 5550),\n",
       " ('ABRAMS, DENISE', 5400),\n",
       " ('LAPPEN, DAVID', 5000),\n",
       " ('LUEVANO, ROSA', 5000),\n",
       " ('BERNHARDT, ANTHONY', 3200),\n",
       " ('HUFF, GERALD', 3200),\n",
       " ('BIRD, KAREN', 2700),\n",
       " ('EPSTEIN, BOB', 2700),\n",
       " ('HAHN, SOPHIE', 2700),\n",
       " ('JOSEPH, DAVID', 2700),\n",
       " ('LITTMANN, NICOLE', 2700),\n",
       " ('LOGAN, JONATHAN', 2700),\n",
       " ('REINIS, JONATHAN ROY', 2700),\n",
       " ('SEIBEL, PETER', 2700),\n",
       " ('SHAPIRO, CARL', 2700),\n",
       " ('TAYLOR, JEROME', 2700),\n",
       " ('WILNER, DAVID', 2700)]"
      ]
     },
     "execution_count": 30,
     "metadata": {},
     "output_type": "execute_result"
    }
   ],
   "source": [
    "query = '''\n",
    "SELECT \n",
    "    name AS name,\n",
    "    SUM(transaction_amt) AS total_transaction_amt \n",
    "FROM indiv_sample \n",
    "GROUP BY name\n",
    "ORDER BY total_transaction_amt DESC, name\n",
    "LIMIT 20;\n",
    "'''\n",
    "%sql $query"
   ]
  },
  {
   "cell_type": "markdown",
   "metadata": {},
   "source": [
    "## Donors by Occupation\n",
    "\n",
    "Another interesting statistic is to look at is the distribution of contributors by occupation."
   ]
  },
  {
   "cell_type": "code",
   "execution_count": 35,
   "metadata": {},
   "outputs": [
    {
     "name": "stdout",
     "output_type": "stream",
     "text": [
      "1 rows affected.\n"
     ]
    },
    {
     "data": {
      "text/html": [
       "<table>\n",
       "    <tr>\n",
       "        <th>count</th>\n",
       "    </tr>\n",
       "    <tr>\n",
       "        <td>407</td>\n",
       "    </tr>\n",
       "</table>"
      ],
      "text/plain": [
       "[(407,)]"
      ]
     },
     "execution_count": 35,
     "metadata": {},
     "output_type": "execute_result"
    }
   ],
   "source": [
    "query = '''\n",
    "SELECT \n",
    "    COUNT(DISTINCT occupation)\n",
    "FROM indiv_sample \n",
    "'''\n",
    "%sql $query"
   ]
  },
  {
   "cell_type": "markdown",
   "metadata": {},
   "source": [
    "There are 407 unique occupations that donated to candidates. With this in mind, I can now create a query to look at the highest represented occupations. "
   ]
  },
  {
   "cell_type": "code",
   "execution_count": 49,
   "metadata": {},
   "outputs": [
    {
     "name": "stdout",
     "output_type": "stream",
     "text": [
      "20 rows affected.\n"
     ]
    },
    {
     "data": {
      "text/html": [
       "<table>\n",
       "    <tr>\n",
       "        <th>occupation</th>\n",
       "        <th>count</th>\n",
       "    </tr>\n",
       "    <tr>\n",
       "        <td>NOT EMPLOYED</td>\n",
       "        <td>373</td>\n",
       "    </tr>\n",
       "    <tr>\n",
       "        <td>RETIRED</td>\n",
       "        <td>306</td>\n",
       "    </tr>\n",
       "    <tr>\n",
       "        <td>None</td>\n",
       "        <td>70</td>\n",
       "    </tr>\n",
       "    <tr>\n",
       "        <td>PROFESSOR</td>\n",
       "        <td>58</td>\n",
       "    </tr>\n",
       "    <tr>\n",
       "        <td>ATTORNEY</td>\n",
       "        <td>56</td>\n",
       "    </tr>\n",
       "    <tr>\n",
       "        <td>NONE</td>\n",
       "        <td>33</td>\n",
       "    </tr>\n",
       "    <tr>\n",
       "        <td>SCIENTIST</td>\n",
       "        <td>30</td>\n",
       "    </tr>\n",
       "    <tr>\n",
       "        <td>ENGINEER</td>\n",
       "        <td>20</td>\n",
       "    </tr>\n",
       "    <tr>\n",
       "        <td>PHONE CLERK</td>\n",
       "        <td>20</td>\n",
       "    </tr>\n",
       "    <tr>\n",
       "        <td>RETIRED TEACHER</td>\n",
       "        <td>20</td>\n",
       "    </tr>\n",
       "    <tr>\n",
       "        <td>ARTIST</td>\n",
       "        <td>19</td>\n",
       "    </tr>\n",
       "    <tr>\n",
       "        <td>HOMEMAKER</td>\n",
       "        <td>19</td>\n",
       "    </tr>\n",
       "    <tr>\n",
       "        <td>PSYCHOLOGIST</td>\n",
       "        <td>19</td>\n",
       "    </tr>\n",
       "    <tr>\n",
       "        <td>PHYSICIAN</td>\n",
       "        <td>18</td>\n",
       "    </tr>\n",
       "    <tr>\n",
       "        <td>UNEMPLOYED</td>\n",
       "        <td>18</td>\n",
       "    </tr>\n",
       "    <tr>\n",
       "        <td>WRITER</td>\n",
       "        <td>18</td>\n",
       "    </tr>\n",
       "    <tr>\n",
       "        <td>TEACHER</td>\n",
       "        <td>17</td>\n",
       "    </tr>\n",
       "    <tr>\n",
       "        <td>LAWYER</td>\n",
       "        <td>16</td>\n",
       "    </tr>\n",
       "    <tr>\n",
       "        <td>PSYCHOTHERAPIST</td>\n",
       "        <td>16</td>\n",
       "    </tr>\n",
       "    <tr>\n",
       "        <td>PROFESSIONAL</td>\n",
       "        <td>15</td>\n",
       "    </tr>\n",
       "</table>"
      ],
      "text/plain": [
       "[('NOT EMPLOYED', 373),\n",
       " ('RETIRED', 306),\n",
       " (None, 70),\n",
       " ('PROFESSOR', 58),\n",
       " ('ATTORNEY', 56),\n",
       " ('NONE', 33),\n",
       " ('SCIENTIST', 30),\n",
       " ('ENGINEER', 20),\n",
       " ('PHONE CLERK', 20),\n",
       " ('RETIRED TEACHER', 20),\n",
       " ('ARTIST', 19),\n",
       " ('HOMEMAKER', 19),\n",
       " ('PSYCHOLOGIST', 19),\n",
       " ('PHYSICIAN', 18),\n",
       " ('UNEMPLOYED', 18),\n",
       " ('WRITER', 18),\n",
       " ('TEACHER', 17),\n",
       " ('LAWYER', 16),\n",
       " ('PSYCHOTHERAPIST', 16),\n",
       " ('PROFESSIONAL', 15)]"
      ]
     },
     "execution_count": 49,
     "metadata": {},
     "output_type": "execute_result"
    }
   ],
   "source": [
    "query = '''\n",
    "SELECT \n",
    "    occupation, \n",
    "    COUNT(transaction_amt) AS count\n",
    "FROM indiv_sample\n",
    "GROUP BY occupation\n",
    "ORDER BY count DESC, occupation\n",
    "LIMIT 20\n",
    "'''\n",
    "%sql $query"
   ]
  },
  {
   "cell_type": "markdown",
   "metadata": {},
   "source": [
    "I can also look at the average donated amount per occupation. It is important to add a column with the number of transactions. From the table below, it is easy to see that all of the highest occupations only had one yet substantial donation."
   ]
  },
  {
   "cell_type": "code",
   "execution_count": 52,
   "metadata": {},
   "outputs": [
    {
     "name": "stdout",
     "output_type": "stream",
     "text": [
      "10 rows affected.\n"
     ]
    },
    {
     "data": {
      "text/html": [
       "<table>\n",
       "    <tr>\n",
       "        <th>occupation</th>\n",
       "        <th>avg_amount</th>\n",
       "        <th>count</th>\n",
       "    </tr>\n",
       "    <tr>\n",
       "        <td>LOUISE GUND FOUNDATION</td>\n",
       "        <td>25000.00</td>\n",
       "        <td>1</td>\n",
       "    </tr>\n",
       "    <tr>\n",
       "        <td>INVESTOR/BOARD MEMBER</td>\n",
       "        <td>10000.00</td>\n",
       "        <td>1</td>\n",
       "    </tr>\n",
       "    <tr>\n",
       "        <td>MARRIAGE &amp; FAMILY THERAPIST</td>\n",
       "        <td>5000.00</td>\n",
       "        <td>1</td>\n",
       "    </tr>\n",
       "    <tr>\n",
       "        <td>CHAIRMAN</td>\n",
       "        <td>2700.00</td>\n",
       "        <td>1</td>\n",
       "    </tr>\n",
       "    <tr>\n",
       "        <td>INVESTMENT MANAGEMENT</td>\n",
       "        <td>2700.00</td>\n",
       "        <td>1</td>\n",
       "    </tr>\n",
       "    <tr>\n",
       "        <td>LIVE THEATRE PRODUCER</td>\n",
       "        <td>2700.00</td>\n",
       "        <td>1</td>\n",
       "    </tr>\n",
       "    <tr>\n",
       "        <td>AIDS CASE MANAGER</td>\n",
       "        <td>2500.00</td>\n",
       "        <td>1</td>\n",
       "    </tr>\n",
       "    <tr>\n",
       "        <td>WEALTH MANAGER</td>\n",
       "        <td>1700.00</td>\n",
       "        <td>1</td>\n",
       "    </tr>\n",
       "    <tr>\n",
       "        <td>INVESTOR</td>\n",
       "        <td>1485.00</td>\n",
       "        <td>2</td>\n",
       "    </tr>\n",
       "    <tr>\n",
       "        <td>ACCOUNTANT</td>\n",
       "        <td>1475.00</td>\n",
       "        <td>2</td>\n",
       "    </tr>\n",
       "</table>"
      ],
      "text/plain": [
       "[('LOUISE GUND FOUNDATION', Decimal('25000.00'), 1),\n",
       " ('INVESTOR/BOARD MEMBER', Decimal('10000.00'), 1),\n",
       " ('MARRIAGE & FAMILY THERAPIST', Decimal('5000.00'), 1),\n",
       " ('CHAIRMAN', Decimal('2700.00'), 1),\n",
       " ('INVESTMENT MANAGEMENT', Decimal('2700.00'), 1),\n",
       " ('LIVE THEATRE PRODUCER', Decimal('2700.00'), 1),\n",
       " ('AIDS CASE MANAGER', Decimal('2500.00'), 1),\n",
       " ('WEALTH MANAGER', Decimal('1700.00'), 1),\n",
       " ('INVESTOR', Decimal('1485.00'), 2),\n",
       " ('ACCOUNTANT', Decimal('1475.00'), 2)]"
      ]
     },
     "execution_count": 52,
     "metadata": {},
     "output_type": "execute_result"
    }
   ],
   "source": [
    "query = '''\n",
    "SELECT \n",
    "    occupation AS occupation, \n",
    "    ROUND(AVG(transaction_amt),2) AS avg_amount,\n",
    "    COUNT(transaction_amt) AS count\n",
    "FROM indiv_sample \n",
    "GROUP BY occupation\n",
    "ORDER BY avg_amount DESC, occupation\n",
    "LIMIT 10\n",
    "'''\n",
    "%sql $query"
   ]
  },
  {
   "cell_type": "markdown",
   "metadata": {},
   "source": [
    "Since the previous statistic was not particularly informative I will have to revise my query and add a constraint of more than 10 transactions. "
   ]
  },
  {
   "cell_type": "code",
   "execution_count": 141,
   "metadata": {},
   "outputs": [
    {
     "name": "stdout",
     "output_type": "stream",
     "text": [
      "10 rows affected.\n"
     ]
    },
    {
     "data": {
      "text/html": [
       "<table>\n",
       "    <tr>\n",
       "        <th>occupation</th>\n",
       "        <th>amount</th>\n",
       "        <th>count</th>\n",
       "    </tr>\n",
       "    <tr>\n",
       "        <td>ATTORNEY</td>\n",
       "        <td>423.95</td>\n",
       "        <td>56</td>\n",
       "    </tr>\n",
       "    <tr>\n",
       "        <td>SOFTWARE ENGINEER</td>\n",
       "        <td>371.00</td>\n",
       "        <td>13</td>\n",
       "    </tr>\n",
       "    <tr>\n",
       "        <td>CONSULTANT</td>\n",
       "        <td>343.08</td>\n",
       "        <td>12</td>\n",
       "    </tr>\n",
       "    <tr>\n",
       "        <td>STUDENT</td>\n",
       "        <td>317.55</td>\n",
       "        <td>11</td>\n",
       "    </tr>\n",
       "    <tr>\n",
       "        <td>SCIENTIST</td>\n",
       "        <td>298.37</td>\n",
       "        <td>30</td>\n",
       "    </tr>\n",
       "    <tr>\n",
       "        <td>ENGINEER</td>\n",
       "        <td>228.50</td>\n",
       "        <td>20</td>\n",
       "    </tr>\n",
       "    <tr>\n",
       "        <td>ARTIST</td>\n",
       "        <td>216.26</td>\n",
       "        <td>19</td>\n",
       "    </tr>\n",
       "    <tr>\n",
       "        <td>PHYSICIAN</td>\n",
       "        <td>193.83</td>\n",
       "        <td>18</td>\n",
       "    </tr>\n",
       "    <tr>\n",
       "        <td>RETIRED</td>\n",
       "        <td>143.74</td>\n",
       "        <td>306</td>\n",
       "    </tr>\n",
       "    <tr>\n",
       "        <td>UNEMPLOYED</td>\n",
       "        <td>140.83</td>\n",
       "        <td>18</td>\n",
       "    </tr>\n",
       "</table>"
      ],
      "text/plain": [
       "[('ATTORNEY', Decimal('423.95'), 56),\n",
       " ('SOFTWARE ENGINEER', Decimal('371.00'), 13),\n",
       " ('CONSULTANT', Decimal('343.08'), 12),\n",
       " ('STUDENT', Decimal('317.55'), 11),\n",
       " ('SCIENTIST', Decimal('298.37'), 30),\n",
       " ('ENGINEER', Decimal('228.50'), 20),\n",
       " ('ARTIST', Decimal('216.26'), 19),\n",
       " ('PHYSICIAN', Decimal('193.83'), 18),\n",
       " ('RETIRED', Decimal('143.74'), 306),\n",
       " ('UNEMPLOYED', Decimal('140.83'), 18)]"
      ]
     },
     "execution_count": 141,
     "metadata": {},
     "output_type": "execute_result"
    }
   ],
   "source": [
    "query = '''\n",
    "SELECT \n",
    "    occupation AS occupation, \n",
    "    avg_amount AS amount,\n",
    "    count AS count\n",
    "FROM\n",
    "    (SELECT \n",
    "    occupation AS occupation, \n",
    "    ROUND(AVG(transaction_amt),2) AS avg_amount,\n",
    "    COUNT(transaction_amt) AS count\n",
    "    FROM indiv_sample \n",
    "    GROUP BY occupation\n",
    "    ORDER BY avg_amount DESC, occupation)\n",
    "    AS results\n",
    "WHERE count > 10\n",
    "ORDER BY amount DESC\n",
    "LIMIT 10\n",
    "'''\n",
    "%sql $query"
   ]
  },
  {
   "cell_type": "markdown",
   "metadata": {},
   "source": [
    "This is a better statistic, yet, since each individual can make multiple transactions it is still not as informative as I would like it. To achieve the average for a given occupation, I need to take the average of each individual's total amount. "
   ]
  },
  {
   "cell_type": "code",
   "execution_count": 55,
   "metadata": {},
   "outputs": [
    {
     "name": "stdout",
     "output_type": "stream",
     "text": [
      "10 rows affected.\n"
     ]
    },
    {
     "data": {
      "text/html": [
       "<table>\n",
       "    <tr>\n",
       "        <th>occupation</th>\n",
       "        <th>name</th>\n",
       "        <th>total_amount</th>\n",
       "    </tr>\n",
       "    <tr>\n",
       "        <td>LOUISE GUND FOUNDATION</td>\n",
       "        <td>GUND, LOUISE LAIDLAW</td>\n",
       "        <td>25000</td>\n",
       "    </tr>\n",
       "    <tr>\n",
       "        <td>INVESTOR/BOARD MEMBER</td>\n",
       "        <td>FIDDLER, JERRY</td>\n",
       "        <td>10000</td>\n",
       "    </tr>\n",
       "    <tr>\n",
       "        <td>SCIENTIST</td>\n",
       "        <td>SHENKER, SCOTT</td>\n",
       "        <td>8000</td>\n",
       "    </tr>\n",
       "    <tr>\n",
       "        <td>RETIRED</td>\n",
       "        <td>BERLEKAMP, ELWYN</td>\n",
       "        <td>5550</td>\n",
       "    </tr>\n",
       "    <tr>\n",
       "        <td>ATTORNEY</td>\n",
       "        <td>ABRAMS, DENISE</td>\n",
       "        <td>5400</td>\n",
       "    </tr>\n",
       "    <tr>\n",
       "        <td>MARRIAGE &amp; FAMILY THERAPIST</td>\n",
       "        <td>LAPPEN, DAVID</td>\n",
       "        <td>5000</td>\n",
       "    </tr>\n",
       "    <tr>\n",
       "        <td>NOT EMPLOYED</td>\n",
       "        <td>LUEVANO, ROSA</td>\n",
       "        <td>5000</td>\n",
       "    </tr>\n",
       "    <tr>\n",
       "        <td>RETIRED</td>\n",
       "        <td>BERNHARDT, ANTHONY</td>\n",
       "        <td>3200</td>\n",
       "    </tr>\n",
       "    <tr>\n",
       "        <td>SOFTWARE ENGINEER</td>\n",
       "        <td>HUFF, GERALD</td>\n",
       "        <td>3200</td>\n",
       "    </tr>\n",
       "    <tr>\n",
       "        <td>ACCOUNTANT</td>\n",
       "        <td>BIRD, KAREN</td>\n",
       "        <td>2700</td>\n",
       "    </tr>\n",
       "</table>"
      ],
      "text/plain": [
       "[('LOUISE GUND FOUNDATION', 'GUND, LOUISE LAIDLAW', 25000),\n",
       " ('INVESTOR/BOARD MEMBER', 'FIDDLER, JERRY', 10000),\n",
       " ('SCIENTIST', 'SHENKER, SCOTT', 8000),\n",
       " ('RETIRED', 'BERLEKAMP, ELWYN', 5550),\n",
       " ('ATTORNEY', 'ABRAMS, DENISE', 5400),\n",
       " ('MARRIAGE & FAMILY THERAPIST', 'LAPPEN, DAVID', 5000),\n",
       " ('NOT EMPLOYED', 'LUEVANO, ROSA', 5000),\n",
       " ('RETIRED', 'BERNHARDT, ANTHONY', 3200),\n",
       " ('SOFTWARE ENGINEER', 'HUFF, GERALD', 3200),\n",
       " ('ACCOUNTANT', 'BIRD, KAREN', 2700)]"
      ]
     },
     "execution_count": 55,
     "metadata": {},
     "output_type": "execute_result"
    }
   ],
   "source": [
    "query = '''\n",
    "SELECT \n",
    "    occupation AS occupation,\n",
    "    name AS name,\n",
    "    SUM(transaction_amt) AS total_amount\n",
    "FROM indiv_sample \n",
    "GROUP BY name, occupation\n",
    "ORDER BY total_amount DESC, name\n",
    "LIMIT 10\n",
    "'''\n",
    "%sql $query"
   ]
  },
  {
   "cell_type": "markdown",
   "metadata": {},
   "source": [
    "After computing the total amount I can compute the average total_amount for each occupation type. To filter out the occupations that have small counts, the query will constrain the number of contributors in that occupation to those greater than 5."
   ]
  },
  {
   "cell_type": "code",
   "execution_count": 57,
   "metadata": {},
   "outputs": [
    {
     "name": "stdout",
     "output_type": "stream",
     "text": [
      "10 rows affected.\n"
     ]
    },
    {
     "data": {
      "text/html": [
       "<table>\n",
       "    <tr>\n",
       "        <th>occupation</th>\n",
       "        <th>amount</th>\n",
       "        <th>count</th>\n",
       "    </tr>\n",
       "    <tr>\n",
       "        <td>SCIENTIST</td>\n",
       "        <td>1118.88</td>\n",
       "        <td>8</td>\n",
       "    </tr>\n",
       "    <tr>\n",
       "        <td>ATTORNEY</td>\n",
       "        <td>593.53</td>\n",
       "        <td>40</td>\n",
       "    </tr>\n",
       "    <tr>\n",
       "        <td>SOFTWARE ENGINEER</td>\n",
       "        <td>535.89</td>\n",
       "        <td>9</td>\n",
       "    </tr>\n",
       "    <tr>\n",
       "        <td>CONSULTANT</td>\n",
       "        <td>374.27</td>\n",
       "        <td>11</td>\n",
       "    </tr>\n",
       "    <tr>\n",
       "        <td>STUDENT</td>\n",
       "        <td>349.30</td>\n",
       "        <td>10</td>\n",
       "    </tr>\n",
       "    <tr>\n",
       "        <td>NOT-EMPLOYED</td>\n",
       "        <td>331.67</td>\n",
       "        <td>9</td>\n",
       "    </tr>\n",
       "    <tr>\n",
       "        <td>ARTIST</td>\n",
       "        <td>273.93</td>\n",
       "        <td>15</td>\n",
       "    </tr>\n",
       "    <tr>\n",
       "        <td>PHYSICIAN</td>\n",
       "        <td>268.38</td>\n",
       "        <td>13</td>\n",
       "    </tr>\n",
       "    <tr>\n",
       "        <td>ENGINEER</td>\n",
       "        <td>253.89</td>\n",
       "        <td>18</td>\n",
       "    </tr>\n",
       "    <tr>\n",
       "        <td>PROFESSOR</td>\n",
       "        <td>240.06</td>\n",
       "        <td>32</td>\n",
       "    </tr>\n",
       "</table>"
      ],
      "text/plain": [
       "[('SCIENTIST', Decimal('1118.88'), 8),\n",
       " ('ATTORNEY', Decimal('593.53'), 40),\n",
       " ('SOFTWARE ENGINEER', Decimal('535.89'), 9),\n",
       " ('CONSULTANT', Decimal('374.27'), 11),\n",
       " ('STUDENT', Decimal('349.30'), 10),\n",
       " ('NOT-EMPLOYED', Decimal('331.67'), 9),\n",
       " ('ARTIST', Decimal('273.93'), 15),\n",
       " ('PHYSICIAN', Decimal('268.38'), 13),\n",
       " ('ENGINEER', Decimal('253.89'), 18),\n",
       " ('PROFESSOR', Decimal('240.06'), 32)]"
      ]
     },
     "execution_count": 57,
     "metadata": {},
     "output_type": "execute_result"
    }
   ],
   "source": [
    "query = '''\n",
    "SELECT *\n",
    "    FROM\n",
    "    (SELECT \n",
    "        occupation AS occupation, \n",
    "        ROUND(AVG(total_amount),2) AS amount,\n",
    "        COUNT(occupation) AS count\n",
    "    FROM\n",
    "        (SELECT \n",
    "        occupation AS occupation,\n",
    "        name AS name,\n",
    "        SUM(transaction_amt) AS total_amount\n",
    "        FROM indiv_sample \n",
    "        GROUP BY name, occupation\n",
    "        ORDER BY total_amount DESC, name)\n",
    "        AS results\n",
    "    GROUP BY occupation\n",
    "    ORDER BY amount DESC)\n",
    "    AS result2\n",
    "WHERE count > 5\n",
    "LIMIT 10\n",
    "\n",
    "'''\n",
    "%sql $query"
   ]
  },
  {
   "cell_type": "markdown",
   "metadata": {},
   "source": [
    "## Committees\n",
    "\n",
    "The comm table provides information about the various committees that individuals donate money to. The way the data is formatted only references the committee id (cmte_id) in the indiv_sample table. Therefore, I will need to perform a series of JOINs to get the more meaningful committee name (cmte_nm)."
   ]
  },
  {
   "cell_type": "code",
   "execution_count": 60,
   "metadata": {},
   "outputs": [
    {
     "name": "stdout",
     "output_type": "stream",
     "text": [
      "5 rows affected.\n"
     ]
    },
    {
     "data": {
      "text/html": [
       "<table>\n",
       "    <tr>\n",
       "        <th>cmte_id</th>\n",
       "        <th>cmte_nm</th>\n",
       "        <th>tres_nm</th>\n",
       "        <th>cmte_st1</th>\n",
       "        <th>cmte_st2</th>\n",
       "        <th>cmte_city</th>\n",
       "        <th>cmte_st</th>\n",
       "        <th>cmte_zip</th>\n",
       "        <th>cmte_dsgn</th>\n",
       "        <th>cmte_tp</th>\n",
       "        <th>cmte_pty_affiliation</th>\n",
       "        <th>cmte_filing_freq</th>\n",
       "        <th>org_tp</th>\n",
       "        <th>connected_org_nm</th>\n",
       "        <th>cand_id</th>\n",
       "    </tr>\n",
       "    <tr>\n",
       "        <td>C00000729</td>\n",
       "        <td>AMERICAN DENTAL ASSOCIATION POLITICAL ACTION COMMITTEE</td>\n",
       "        <td>HARRISON, THOMAS C. DR</td>\n",
       "        <td>1111 14TH STREET, NW</td>\n",
       "        <td>SUITE 1100</td>\n",
       "        <td>WASHINGTON</td>\n",
       "        <td>DC</td>\n",
       "        <td>20005</td>\n",
       "        <td>B</td>\n",
       "        <td>Q</td>\n",
       "        <td>UNK</td>\n",
       "        <td>M</td>\n",
       "        <td>M</td>\n",
       "        <td>AMERICAN DENTAL ASSOCIATION</td>\n",
       "        <td>None</td>\n",
       "    </tr>\n",
       "    <tr>\n",
       "        <td>C00000935</td>\n",
       "        <td>DCCC</td>\n",
       "        <td>WARD, KELLY C.</td>\n",
       "        <td>430 SOUTH CAPITOL STREET, SE</td>\n",
       "        <td>2ND FLOOR</td>\n",
       "        <td>WASHINGTON</td>\n",
       "        <td>DC</td>\n",
       "        <td>200034024</td>\n",
       "        <td>U</td>\n",
       "        <td>Y</td>\n",
       "        <td>DEM</td>\n",
       "        <td>M</td>\n",
       "        <td>None</td>\n",
       "        <td>None</td>\n",
       "        <td>None</td>\n",
       "    </tr>\n",
       "    <tr>\n",
       "        <td>C00001016</td>\n",
       "        <td>CARPENTERS LEGISLATIVE IMPROVEMENT COMMITTEE UNITED BROTHERHOOD OF CARPENTERS AND JOINERS</td>\n",
       "        <td>SILINS, ANDRIS</td>\n",
       "        <td>101 CONSTIUTION AVENUE, NW</td>\n",
       "        <td>10TH FLOOR WEST</td>\n",
       "        <td>WASHINGTON</td>\n",
       "        <td>DC</td>\n",
       "        <td>20001</td>\n",
       "        <td>B</td>\n",
       "        <td>Q</td>\n",
       "        <td>NNE</td>\n",
       "        <td>M</td>\n",
       "        <td>L</td>\n",
       "        <td>UNITED BROTHERHOOD OF CARPENTERS AND JOINERS OF AMERICA</td>\n",
       "        <td>None</td>\n",
       "    </tr>\n",
       "    <tr>\n",
       "        <td>C00003418</td>\n",
       "        <td>REPUBLICAN NATIONAL COMMITTEE</td>\n",
       "        <td>PARKER, ANTHONY W MR</td>\n",
       "        <td>310 FIRST STREET SE</td>\n",
       "        <td>None</td>\n",
       "        <td>WASHINGTON</td>\n",
       "        <td>DC</td>\n",
       "        <td>20003</td>\n",
       "        <td>U</td>\n",
       "        <td>Y</td>\n",
       "        <td>REP</td>\n",
       "        <td>M</td>\n",
       "        <td>None</td>\n",
       "        <td>HOUSE MAJORITY TRUST</td>\n",
       "        <td>None</td>\n",
       "    </tr>\n",
       "    <tr>\n",
       "        <td>C00009936</td>\n",
       "        <td>AMERICAN FEDERATION OF GOVT. EMPL. POLITICAL ACTION COMMITTEE</td>\n",
       "        <td>GAGE, JOHN MR.</td>\n",
       "        <td>80 F STREET, NW</td>\n",
       "        <td>None</td>\n",
       "        <td>WASHINGTON</td>\n",
       "        <td>DC</td>\n",
       "        <td>20001</td>\n",
       "        <td>B</td>\n",
       "        <td>Q</td>\n",
       "        <td>UNK</td>\n",
       "        <td>M</td>\n",
       "        <td>L</td>\n",
       "        <td>AMERICAN FEDERATION OF GOV&#x27;T EMPLOYEES</td>\n",
       "        <td>None</td>\n",
       "    </tr>\n",
       "</table>"
      ],
      "text/plain": [
       "[('C00000729', 'AMERICAN DENTAL ASSOCIATION POLITICAL ACTION COMMITTEE', 'HARRISON, THOMAS C. DR', '1111 14TH STREET, NW', 'SUITE 1100', 'WASHINGTON', 'DC', '20005', 'B', 'Q', 'UNK', 'M', 'M', 'AMERICAN DENTAL ASSOCIATION', None),\n",
       " ('C00000935', 'DCCC', 'WARD, KELLY C.', '430 SOUTH CAPITOL STREET, SE', '2ND FLOOR', 'WASHINGTON', 'DC', '200034024', 'U', 'Y', 'DEM', 'M', None, None, None),\n",
       " ('C00001016', 'CARPENTERS LEGISLATIVE IMPROVEMENT COMMITTEE UNITED BROTHERHOOD OF CARPENTERS AND JOINERS', 'SILINS, ANDRIS', '101 CONSTIUTION AVENUE, NW', '10TH FLOOR WEST', 'WASHINGTON', 'DC', '20001', 'B', 'Q', 'NNE', 'M', 'L', 'UNITED BROTHERHOOD OF CARPENTERS AND JOINERS OF AMERICA', None),\n",
       " ('C00003418', 'REPUBLICAN NATIONAL COMMITTEE', 'PARKER, ANTHONY W MR', '310 FIRST STREET SE', None, 'WASHINGTON', 'DC', '20003', 'U', 'Y', 'REP', 'M', None, 'HOUSE MAJORITY TRUST', None),\n",
       " ('C00009936', 'AMERICAN FEDERATION OF GOVT. EMPL. POLITICAL ACTION COMMITTEE', 'GAGE, JOHN MR.', '80 F STREET, NW', None, 'WASHINGTON', 'DC', '20001', 'B', 'Q', 'UNK', 'M', 'L', \"AMERICAN FEDERATION OF GOV'T EMPLOYEES\", None)]"
      ]
     },
     "execution_count": 60,
     "metadata": {},
     "output_type": "execute_result"
    }
   ],
   "source": [
    "%sql select * from comm limit 5"
   ]
  },
  {
   "cell_type": "markdown",
   "metadata": {},
   "source": [
    "Using just the indiv_sample table I can SUM and GROUP BY to get the committees with the highest amount of money donated. However, this does not say anything about the specifics of the committee, which has its information stored in the comm table. "
   ]
  },
  {
   "cell_type": "code",
   "execution_count": 67,
   "metadata": {},
   "outputs": [
    {
     "name": "stdout",
     "output_type": "stream",
     "text": [
      "5 rows affected.\n"
     ]
    },
    {
     "data": {
      "text/html": [
       "<table>\n",
       "    <tr>\n",
       "        <th>committee_id</th>\n",
       "        <th>total_amount</th>\n",
       "        <th>count</th>\n",
       "    </tr>\n",
       "    <tr>\n",
       "        <td>C00401224</td>\n",
       "        <td>66228</td>\n",
       "        <td>799</td>\n",
       "    </tr>\n",
       "    <tr>\n",
       "        <td>C00575795</td>\n",
       "        <td>38002</td>\n",
       "        <td>252</td>\n",
       "    </tr>\n",
       "    <tr>\n",
       "        <td>C00577130</td>\n",
       "        <td>19920</td>\n",
       "        <td>239</td>\n",
       "    </tr>\n",
       "    <tr>\n",
       "        <td>C00000935</td>\n",
       "        <td>26040</td>\n",
       "        <td>153</td>\n",
       "    </tr>\n",
       "    <tr>\n",
       "        <td>C00042366</td>\n",
       "        <td>7271</td>\n",
       "        <td>71</td>\n",
       "    </tr>\n",
       "</table>"
      ],
      "text/plain": [
       "[('C00401224', 66228, 799),\n",
       " ('C00575795', 38002, 252),\n",
       " ('C00577130', 19920, 239),\n",
       " ('C00000935', 26040, 153),\n",
       " ('C00042366', 7271, 71)]"
      ]
     },
     "execution_count": 67,
     "metadata": {},
     "output_type": "execute_result"
    }
   ],
   "source": [
    "query ='''\n",
    "SELECT\n",
    "    cmte_id AS committee_id,\n",
    "    SUM(transaction_amt) AS total_amount,\n",
    "    COUNT(cmte_id) AS count\n",
    "FROM indiv_sample\n",
    "GROUP BY committee_id\n",
    "ORDER BY count DESC\n",
    "LIMIT 5\n",
    "'''\n",
    "%sql $query"
   ]
  },
  {
   "cell_type": "markdown",
   "metadata": {},
   "source": [
    "Expanding upon the previous query and crosslisting with the comm table will provide a table that includes how much monet and how many total donations each committee recieved. From here I will take the top 10 with highest total donations to look at.  "
   ]
  },
  {
   "cell_type": "code",
   "execution_count": 83,
   "metadata": {},
   "outputs": [
    {
     "name": "stdout",
     "output_type": "stream",
     "text": [
      "10 rows affected.\n"
     ]
    },
    {
     "data": {
      "text/html": [
       "<table>\n",
       "    <tr>\n",
       "        <th>committee_name</th>\n",
       "        <th>party_affiliation</th>\n",
       "        <th>city</th>\n",
       "        <th>state</th>\n",
       "        <th>total_amount</th>\n",
       "        <th>count</th>\n",
       "    </tr>\n",
       "    <tr>\n",
       "        <td>ACTBLUE</td>\n",
       "        <td>None</td>\n",
       "        <td>SOMERVILLE</td>\n",
       "        <td>MA</td>\n",
       "        <td>66228</td>\n",
       "        <td>799</td>\n",
       "    </tr>\n",
       "    <tr>\n",
       "        <td>HILLARY FOR AMERICA</td>\n",
       "        <td>DEM</td>\n",
       "        <td>NEW YORK</td>\n",
       "        <td>NY</td>\n",
       "        <td>38002</td>\n",
       "        <td>252</td>\n",
       "    </tr>\n",
       "    <tr>\n",
       "        <td>BERNIE 2016</td>\n",
       "        <td>DEM</td>\n",
       "        <td>BURLINGTON</td>\n",
       "        <td>VT</td>\n",
       "        <td>19920</td>\n",
       "        <td>239</td>\n",
       "    </tr>\n",
       "    <tr>\n",
       "        <td>DCCC</td>\n",
       "        <td>DEM</td>\n",
       "        <td>WASHINGTON</td>\n",
       "        <td>DC</td>\n",
       "        <td>26040</td>\n",
       "        <td>153</td>\n",
       "    </tr>\n",
       "    <tr>\n",
       "        <td>DSCC</td>\n",
       "        <td>DEM</td>\n",
       "        <td>WASHINGTON</td>\n",
       "        <td>DC</td>\n",
       "        <td>7271</td>\n",
       "        <td>71</td>\n",
       "    </tr>\n",
       "    <tr>\n",
       "        <td>END CITIZENS UNITED</td>\n",
       "        <td>None</td>\n",
       "        <td>WASHINGTON</td>\n",
       "        <td>DC</td>\n",
       "        <td>1129</td>\n",
       "        <td>47</td>\n",
       "    </tr>\n",
       "    <tr>\n",
       "        <td>HILLARY VICTORY FUND</td>\n",
       "        <td>None</td>\n",
       "        <td>NEW YORK</td>\n",
       "        <td>NY</td>\n",
       "        <td>44163</td>\n",
       "        <td>45</td>\n",
       "    </tr>\n",
       "    <tr>\n",
       "        <td>MOVEON.ORG POLITICAL ACTION</td>\n",
       "        <td>None</td>\n",
       "        <td>WASHINGTON</td>\n",
       "        <td>DC</td>\n",
       "        <td>2836</td>\n",
       "        <td>37</td>\n",
       "    </tr>\n",
       "    <tr>\n",
       "        <td>CATHERINE CORTEZ MASTO FOR SENATE</td>\n",
       "        <td>DEM</td>\n",
       "        <td>LAS VEGAS</td>\n",
       "        <td>NV</td>\n",
       "        <td>6878</td>\n",
       "        <td>27</td>\n",
       "    </tr>\n",
       "    <tr>\n",
       "        <td>EMILY&#x27;S LIST</td>\n",
       "        <td>None</td>\n",
       "        <td>WASHINGTON</td>\n",
       "        <td>DC</td>\n",
       "        <td>7988</td>\n",
       "        <td>26</td>\n",
       "    </tr>\n",
       "</table>"
      ],
      "text/plain": [
       "[('ACTBLUE', None, 'SOMERVILLE', 'MA', 66228, 799),\n",
       " ('HILLARY FOR AMERICA', 'DEM', 'NEW YORK', 'NY', 38002, 252),\n",
       " ('BERNIE 2016', 'DEM', 'BURLINGTON', 'VT', 19920, 239),\n",
       " ('DCCC', 'DEM', 'WASHINGTON', 'DC', 26040, 153),\n",
       " ('DSCC', 'DEM', 'WASHINGTON', 'DC', 7271, 71),\n",
       " ('END CITIZENS UNITED', None, 'WASHINGTON', 'DC', 1129, 47),\n",
       " ('HILLARY VICTORY FUND', None, 'NEW YORK', 'NY', 44163, 45),\n",
       " ('MOVEON.ORG POLITICAL ACTION', None, 'WASHINGTON', 'DC', 2836, 37),\n",
       " ('CATHERINE CORTEZ MASTO FOR SENATE', 'DEM', 'LAS VEGAS', 'NV', 6878, 27),\n",
       " (\"EMILY'S LIST\", None, 'WASHINGTON', 'DC', 7988, 26)]"
      ]
     },
     "execution_count": 83,
     "metadata": {},
     "output_type": "execute_result"
    }
   ],
   "source": [
    "query = '''\n",
    "WITH cmte_count AS\n",
    "(\n",
    "SELECT\n",
    "    cmte_id AS committee_id,\n",
    "    SUM(transaction_amt) AS total_amount,\n",
    "    COUNT(cmte_id) AS count\n",
    "FROM indiv_sample\n",
    "GROUP BY committee_id\n",
    ")\n",
    "SELECT \n",
    "    cmte_nm AS committee_name, \n",
    "    cmte_pty_affiliation AS party_affiliation,\n",
    "    cmte_city AS city,\n",
    "    cmte_st AS state,\n",
    "    i.total_amount AS total_amount,\n",
    "    i.count AS count\n",
    "FROM comm c JOIN cmte_count i ON committee_id = cmte_id\n",
    "GROUP BY  c.cmte_nm, c.cmte_pty_affiliation, c.cmte_city, c.cmte_st, i.total_amount, i.count\n",
    "ORDER BY count DESC, committee_name\n",
    "LIMIT 10\n",
    "'''\n",
    "%sql $query"
   ]
  },
  {
   "cell_type": "markdown",
   "metadata": {},
   "source": [
    "Looking at the table, 5 out of the 10 top committee's are affiliated with the democratic party (DEM). I want to see from all committees that appear in indiv_sample, meaning recieved a donation from an individual in Berkeley, CA, what is the distribution of party affiliation."
   ]
  },
  {
   "cell_type": "code",
   "execution_count": 84,
   "metadata": {},
   "outputs": [
    {
     "name": "stdout",
     "output_type": "stream",
     "text": [
      "6 rows affected.\n"
     ]
    },
    {
     "data": {
      "text/html": [
       "<table>\n",
       "    <tr>\n",
       "        <th>party_affiliation</th>\n",
       "        <th>count</th>\n",
       "    </tr>\n",
       "    <tr>\n",
       "        <td>DEM</td>\n",
       "        <td>58</td>\n",
       "    </tr>\n",
       "    <tr>\n",
       "        <td>None</td>\n",
       "        <td>44</td>\n",
       "    </tr>\n",
       "    <tr>\n",
       "        <td>REP</td>\n",
       "        <td>8</td>\n",
       "    </tr>\n",
       "    <tr>\n",
       "        <td>UNK</td>\n",
       "        <td>4</td>\n",
       "    </tr>\n",
       "    <tr>\n",
       "        <td>NNE</td>\n",
       "        <td>2</td>\n",
       "    </tr>\n",
       "    <tr>\n",
       "        <td>GRE</td>\n",
       "        <td>1</td>\n",
       "    </tr>\n",
       "</table>"
      ],
      "text/plain": [
       "[('DEM', 58), (None, 44), ('REP', 8), ('UNK', 4), ('NNE', 2), ('GRE', 1)]"
      ]
     },
     "execution_count": 84,
     "metadata": {},
     "output_type": "execute_result"
    }
   ],
   "source": [
    "query = '''\n",
    "WITH cmte AS\n",
    "(\n",
    "  SELECT \n",
    "      cmte_id AS cmte_id\n",
    "  FROM indiv_sample \n",
    "  GROUP BY cmte_id\n",
    ")\n",
    "SELECT \n",
    "    cmte_pty_affiliation AS party_affiliation,\n",
    "    COUNT(*) AS count\n",
    "FROM comm c JOIN cmte i on c.cmte_id = i.cmte_id\n",
    "GROUP BY party_affiliation\n",
    "ORDER BY count DESC, party_affiliation\n",
    "LIMIT 10\n",
    "'''\n",
    "%sql $query"
   ]
  },
  {
   "cell_type": "markdown",
   "metadata": {},
   "source": [
    "## Hypothesis Testing"
   ]
  },
  {
   "cell_type": "markdown",
   "metadata": {},
   "source": [
    "**Is there a difference in the proportion of donations made by small donors (under \\$200) in Berkeley to Hillary Clinton's and Bernie Sanders' campaigns?**\n",
    "\n",
    "To formulate a null hypothesis, it is important to consider the how the data is generated. I know that the sample was taken at random from the collection of all donations from Berkeley donors. I can argue that Clinton attracts small donors at the same rate as Sanders. Then, given the proportion of donors in the combined sample of Clinton and Sanders donors, it is just by chance that the proportion for Sanders and the proportion for Clinton are not equal. \n",
    "\n",
    "**Permutation Test:**  In a permuation test, or randomization test, I will mix up the small and large donors, and then record the number of small donors to Clinton and to Sanders. After many permutations, it then becomes easier to examine the distribution of differences to see how likely it was to have observed our sample's difference. \n",
    "\n",
    "**Formal Hypothesis:**\n",
    "\n",
    "**$H_o$:** Clinton and Sanders attract the same proportion of small donors. Any observed difference in our sample is simply due to chance variation.\n",
    "\n",
    "**$H_A$:**  The difference is real. \n"
   ]
  },
  {
   "cell_type": "markdown",
   "metadata": {},
   "source": [
    "I have taken a simple random sample of 2000 rows of the original FEC data for individual contributions that only include contributions from Berkeley. This sample is stored in the table `indiv_sample`.\n",
    "\n",
    "The individual contributions of donors are linked to committees rather than candidates directly. Hillary's primary committee was called `HILLARY FOR AMERICA` and Bernie's was `BERNIE 2016`."
   ]
  },
  {
   "cell_type": "code",
   "execution_count": 88,
   "metadata": {},
   "outputs": [
    {
     "name": "stdout",
     "output_type": "stream",
     "text": [
      "Done.\n",
      "Done.\n",
      "5 rows affected.\n"
     ]
    },
    {
     "data": {
      "text/html": [
       "<table>\n",
       "    <tr>\n",
       "        <th>name</th>\n",
       "        <th>transaction_amt</th>\n",
       "        <th>cmte_nm</th>\n",
       "    </tr>\n",
       "    <tr>\n",
       "        <td>HAHN, SOPHIE</td>\n",
       "        <td>2700</td>\n",
       "        <td>HILLARY FOR AMERICA</td>\n",
       "    </tr>\n",
       "    <tr>\n",
       "        <td>JOSEPH, DAVID</td>\n",
       "        <td>2700</td>\n",
       "        <td>HILLARY FOR AMERICA</td>\n",
       "    </tr>\n",
       "    <tr>\n",
       "        <td>LITTMANN, NICOLE</td>\n",
       "        <td>2700</td>\n",
       "        <td>BERNIE 2016</td>\n",
       "    </tr>\n",
       "    <tr>\n",
       "        <td>LOGAN, JONATHAN</td>\n",
       "        <td>2700</td>\n",
       "        <td>BERNIE 2016</td>\n",
       "    </tr>\n",
       "    <tr>\n",
       "        <td>REINIS, JONATHAN ROY</td>\n",
       "        <td>2700</td>\n",
       "        <td>HILLARY FOR AMERICA</td>\n",
       "    </tr>\n",
       "</table>"
      ],
      "text/plain": [
       "[('HAHN, SOPHIE', 2700, 'HILLARY FOR AMERICA'),\n",
       " ('JOSEPH, DAVID', 2700, 'HILLARY FOR AMERICA'),\n",
       " ('LITTMANN, NICOLE', 2700, 'BERNIE 2016'),\n",
       " ('LOGAN, JONATHAN', 2700, 'BERNIE 2016'),\n",
       " ('REINIS, JONATHAN ROY', 2700, 'HILLARY FOR AMERICA')]"
      ]
     },
     "execution_count": 88,
     "metadata": {},
     "output_type": "execute_result"
    }
   ],
   "source": [
    "query = \"\"\"\n",
    "CREATE OR REPLACE VIEW contribs AS\n",
    "SELECT name, transaction_amt, c.cmte_nm\n",
    "FROM indiv_sample i JOIN comm c ON c.cmte_id = i.cmte_id\n",
    "WHERE c.cmte_nm = 'HILLARY FOR AMERICA' OR c.cmte_nm = 'BERNIE 2016'\n",
    "ORDER BY transaction_amt DESC, name\n",
    "\"\"\"\n",
    "%sql DROP VIEW IF EXISTS contribs\n",
    "%sql $query\n",
    "%sql SELECT * FROM contribs LIMIT 5"
   ]
  },
  {
   "cell_type": "markdown",
   "metadata": {},
   "source": [
    "I am going to create a table grouping the tranactions according to the candidate. Then I will create a column with the number of donations classified as small (under $200) and a column with the total number of donations. \n",
    "\n",
    "From here I will be able to calculate a statistic as follows:\n",
    "\n",
    "$$ \\frac {\\textrm{total donations under \\$200 to Hillary}} {\\textrm{total donations to Hillary}} - \n",
    "    \\frac {\\textrm{total donations under \\$200 to Bernie}} {\\textrm{total donations to Bernie}}. \n",
    "$$\n",
    "\n",
    "The calculation of the stat will be completed using pandas dataframe and python."
   ]
  },
  {
   "cell_type": "code",
   "execution_count": 130,
   "metadata": {},
   "outputs": [
    {
     "name": "stdout",
     "output_type": "stream",
     "text": [
      "2 rows affected.\n"
     ]
    },
    {
     "data": {
      "text/html": [
       "<table>\n",
       "    <tr>\n",
       "        <th>cmte_nm</th>\n",
       "        <th>small</th>\n",
       "        <th>total</th>\n",
       "    </tr>\n",
       "    <tr>\n",
       "        <td>BERNIE 2016</td>\n",
       "        <td>212</td>\n",
       "        <td>239</td>\n",
       "    </tr>\n",
       "    <tr>\n",
       "        <td>HILLARY FOR AMERICA</td>\n",
       "        <td>225</td>\n",
       "        <td>252</td>\n",
       "    </tr>\n",
       "</table>"
      ],
      "text/plain": [
       "[('BERNIE 2016', 212, 239), ('HILLARY FOR AMERICA', 225, 252)]"
      ]
     },
     "execution_count": 130,
     "metadata": {},
     "output_type": "execute_result"
    }
   ],
   "source": [
    "query = '''\n",
    "WITH marked AS (\n",
    "    SELECT *,\n",
    "    transaction_amt <= 200 AS small \n",
    "    FROM contribs\n",
    ")\n",
    "SELECT cmte_nm,\n",
    "    COUNT(CASE WHEN small THEN 1 END) AS small,\n",
    "    COUNT(*) AS total\n",
    "FROM marked\n",
    "GROUP BY cmte_nm\n",
    "ORDER BY cmte_nm\n",
    "'''\n",
    "\n",
    "df = pd.DataFrame(connection.execute(query).fetchall(), columns=['cmte_nm', 'small', 'total'])\n",
    "\n",
    "# Fill this in with the observed test statistic\n",
    "observed_stat = (df.iloc[1]['small']/df.iloc[1]['total']) - (df.iloc[0]['small']/df.iloc[0]['total'])\n",
    "\n",
    "%sql $query"
   ]
  },
  {
   "cell_type": "code",
   "execution_count": 136,
   "metadata": {},
   "outputs": [
    {
     "data": {
      "text/plain": [
       "0.0058278541542140516"
      ]
     },
     "execution_count": 136,
     "metadata": {},
     "output_type": "execute_result"
    }
   ],
   "source": [
    "observed_stat"
   ]
  },
  {
   "cell_type": "markdown",
   "metadata": {},
   "source": [
    "Even though the difference is quite small, this difference could still be considered large relative to the standard error of the statistic. "
   ]
  },
  {
   "cell_type": "markdown",
   "metadata": {},
   "source": [
    "## Bootstrapping\n",
    "\n",
    "1. Shuffle the observed values between the two samples. In this case, shuffle the contributions between Hillary and Bernie. \n",
    "2. Recompute the test statistic on the shuffled sample.\n",
    "3. Repeat.\n"
   ]
  },
  {
   "cell_type": "code",
   "execution_count": 121,
   "metadata": {},
   "outputs": [
    {
     "name": "stdout",
     "output_type": "stream",
     "text": [
      "Done.\n",
      "Done.\n",
      "10 rows affected.\n"
     ]
    },
    {
     "data": {
      "text/html": [
       "<table>\n",
       "    <tr>\n",
       "        <th>row_id</th>\n",
       "        <th>transaction_amt</th>\n",
       "        <th>cmte_nm</th>\n",
       "    </tr>\n",
       "    <tr>\n",
       "        <td>1</td>\n",
       "        <td>2700</td>\n",
       "        <td>HILLARY FOR AMERICA</td>\n",
       "    </tr>\n",
       "    <tr>\n",
       "        <td>2</td>\n",
       "        <td>2700</td>\n",
       "        <td>HILLARY FOR AMERICA</td>\n",
       "    </tr>\n",
       "    <tr>\n",
       "        <td>3</td>\n",
       "        <td>2700</td>\n",
       "        <td>BERNIE 2016</td>\n",
       "    </tr>\n",
       "    <tr>\n",
       "        <td>4</td>\n",
       "        <td>2700</td>\n",
       "        <td>BERNIE 2016</td>\n",
       "    </tr>\n",
       "    <tr>\n",
       "        <td>5</td>\n",
       "        <td>2700</td>\n",
       "        <td>HILLARY FOR AMERICA</td>\n",
       "    </tr>\n",
       "    <tr>\n",
       "        <td>6</td>\n",
       "        <td>2700</td>\n",
       "        <td>HILLARY FOR AMERICA</td>\n",
       "    </tr>\n",
       "    <tr>\n",
       "        <td>7</td>\n",
       "        <td>2700</td>\n",
       "        <td>HILLARY FOR AMERICA</td>\n",
       "    </tr>\n",
       "    <tr>\n",
       "        <td>8</td>\n",
       "        <td>2700</td>\n",
       "        <td>HILLARY FOR AMERICA</td>\n",
       "    </tr>\n",
       "    <tr>\n",
       "        <td>9</td>\n",
       "        <td>2500</td>\n",
       "        <td>HILLARY FOR AMERICA</td>\n",
       "    </tr>\n",
       "    <tr>\n",
       "        <td>10</td>\n",
       "        <td>1000</td>\n",
       "        <td>HILLARY FOR AMERICA</td>\n",
       "    </tr>\n",
       "</table>"
      ],
      "text/plain": [
       "[(1, 2700, 'HILLARY FOR AMERICA'),\n",
       " (2, 2700, 'HILLARY FOR AMERICA'),\n",
       " (3, 2700, 'BERNIE 2016'),\n",
       " (4, 2700, 'BERNIE 2016'),\n",
       " (5, 2700, 'HILLARY FOR AMERICA'),\n",
       " (6, 2700, 'HILLARY FOR AMERICA'),\n",
       " (7, 2700, 'HILLARY FOR AMERICA'),\n",
       " (8, 2700, 'HILLARY FOR AMERICA'),\n",
       " (9, 2500, 'HILLARY FOR AMERICA'),\n",
       " (10, 1000, 'HILLARY FOR AMERICA')]"
      ]
     },
     "execution_count": 121,
     "metadata": {},
     "output_type": "execute_result"
    }
   ],
   "source": [
    "sample = '''\n",
    "DROP VIEW IF EXISTS sample CASCADE;\n",
    "\n",
    "CREATE OR REPLACE VIEW sample AS \n",
    "    SELECT row_number() over () AS row_id, transaction_amt, cmte_nm\n",
    "    FROM contribs;\n",
    "\n",
    "SELECT * FROM sample LIMIT 10\n",
    "'''\n",
    "\n",
    "%sql $sample"
   ]
  },
  {
   "cell_type": "markdown",
   "metadata": {},
   "source": [
    "My sample table contains 491 rows. I need to create a table called design that holds the random shuffles of this data. I will be performing 1000 reshuffles so therefore my new table will contain 491,000 rows, each with a trial_id and a row_id. \n",
    "\n",
    "- trial_id: the number of the trial from 1 to 1000\n",
    "- row_id: row number shuffled, between 1 and 491"
   ]
  },
  {
   "cell_type": "code",
   "execution_count": 124,
   "metadata": {},
   "outputs": [
    {
     "name": "stdout",
     "output_type": "stream",
     "text": [
      "Done.\n",
      "Done.\n",
      "Done.\n",
      "10 rows affected.\n"
     ]
    },
    {
     "data": {
      "text/html": [
       "<table>\n",
       "    <tr>\n",
       "        <th>trial_id</th>\n",
       "        <th>row_id</th>\n",
       "    </tr>\n",
       "    <tr>\n",
       "        <td>1</td>\n",
       "        <td>483</td>\n",
       "    </tr>\n",
       "    <tr>\n",
       "        <td>1</td>\n",
       "        <td>224</td>\n",
       "    </tr>\n",
       "    <tr>\n",
       "        <td>1</td>\n",
       "        <td>269</td>\n",
       "    </tr>\n",
       "    <tr>\n",
       "        <td>1</td>\n",
       "        <td>121</td>\n",
       "    </tr>\n",
       "    <tr>\n",
       "        <td>1</td>\n",
       "        <td>99</td>\n",
       "    </tr>\n",
       "    <tr>\n",
       "        <td>1</td>\n",
       "        <td>220</td>\n",
       "    </tr>\n",
       "    <tr>\n",
       "        <td>1</td>\n",
       "        <td>377</td>\n",
       "    </tr>\n",
       "    <tr>\n",
       "        <td>1</td>\n",
       "        <td>25</td>\n",
       "    </tr>\n",
       "    <tr>\n",
       "        <td>1</td>\n",
       "        <td>460</td>\n",
       "    </tr>\n",
       "    <tr>\n",
       "        <td>1</td>\n",
       "        <td>409</td>\n",
       "    </tr>\n",
       "</table>"
      ],
      "text/plain": [
       "[(1, 483),\n",
       " (1, 224),\n",
       " (1, 269),\n",
       " (1, 121),\n",
       " (1, 99),\n",
       " (1, 220),\n",
       " (1, 377),\n",
       " (1, 25),\n",
       " (1, 460),\n",
       " (1, 409)]"
      ]
     },
     "execution_count": 124,
     "metadata": {},
     "output_type": "execute_result"
    }
   ],
   "source": [
    "n_rows = 491\n",
    "n_trials = 1000\n",
    "\n",
    "query = \"\"\"\n",
    "CREATE VIEW design AS\n",
    "SELECT \n",
    "    generate_series(1, $n_trials) AS trial_id,\n",
    "    generate_series(1, $n_rows) AS row_id \n",
    "ORDER BY trial_id, RANDOM()\n",
    "LIMIT 491000\n",
    "\"\"\"\n",
    "import string\n",
    "query = string.Template(query).substitute(locals())\n",
    "\n",
    "seed = 0.42\n",
    "%sql drop view if exists design cascade\n",
    "%sql SET SEED TO $seed\n",
    "%sql $query\n",
    "%sql select * from design limit 10"
   ]
  },
  {
   "cell_type": "markdown",
   "metadata": {},
   "source": [
    "I am now able to construct the table with the shuffled transaction amounts (transaction_amt) along with the unshuffled committee names. Essentially, I am constructing a table with shuffled transaction values between the committees."
   ]
  },
  {
   "cell_type": "code",
   "execution_count": 125,
   "metadata": {},
   "outputs": [
    {
     "name": "stdout",
     "output_type": "stream",
     "text": [
      "Done.\n",
      "Done.\n",
      "Done.\n",
      "10 rows affected.\n"
     ]
    },
    {
     "data": {
      "text/html": [
       "<table>\n",
       "    <tr>\n",
       "        <th>trial_id</th>\n",
       "        <th>transaction_amt</th>\n",
       "        <th>cmte_nm</th>\n",
       "    </tr>\n",
       "    <tr>\n",
       "        <td>1</td>\n",
       "        <td>3</td>\n",
       "        <td>HILLARY FOR AMERICA</td>\n",
       "    </tr>\n",
       "    <tr>\n",
       "        <td>1</td>\n",
       "        <td>37</td>\n",
       "        <td>HILLARY FOR AMERICA</td>\n",
       "    </tr>\n",
       "    <tr>\n",
       "        <td>1</td>\n",
       "        <td>25</td>\n",
       "        <td>BERNIE 2016</td>\n",
       "    </tr>\n",
       "    <tr>\n",
       "        <td>1</td>\n",
       "        <td>100</td>\n",
       "        <td>BERNIE 2016</td>\n",
       "    </tr>\n",
       "    <tr>\n",
       "        <td>1</td>\n",
       "        <td>100</td>\n",
       "        <td>HILLARY FOR AMERICA</td>\n",
       "    </tr>\n",
       "    <tr>\n",
       "        <td>1</td>\n",
       "        <td>38</td>\n",
       "        <td>HILLARY FOR AMERICA</td>\n",
       "    </tr>\n",
       "    <tr>\n",
       "        <td>1</td>\n",
       "        <td>15</td>\n",
       "        <td>HILLARY FOR AMERICA</td>\n",
       "    </tr>\n",
       "    <tr>\n",
       "        <td>1</td>\n",
       "        <td>270</td>\n",
       "        <td>HILLARY FOR AMERICA</td>\n",
       "    </tr>\n",
       "    <tr>\n",
       "        <td>1</td>\n",
       "        <td>5</td>\n",
       "        <td>HILLARY FOR AMERICA</td>\n",
       "    </tr>\n",
       "    <tr>\n",
       "        <td>1</td>\n",
       "        <td>10</td>\n",
       "        <td>HILLARY FOR AMERICA</td>\n",
       "    </tr>\n",
       "</table>"
      ],
      "text/plain": [
       "[(1, 3, 'HILLARY FOR AMERICA'),\n",
       " (1, 37, 'HILLARY FOR AMERICA'),\n",
       " (1, 25, 'BERNIE 2016'),\n",
       " (1, 100, 'BERNIE 2016'),\n",
       " (1, 100, 'HILLARY FOR AMERICA'),\n",
       " (1, 38, 'HILLARY FOR AMERICA'),\n",
       " (1, 15, 'HILLARY FOR AMERICA'),\n",
       " (1, 270, 'HILLARY FOR AMERICA'),\n",
       " (1, 5, 'HILLARY FOR AMERICA'),\n",
       " (1, 10, 'HILLARY FOR AMERICA')]"
      ]
     },
     "execution_count": 125,
     "metadata": {},
     "output_type": "execute_result"
    }
   ],
   "source": [
    "query = '''\n",
    "CREATE VIEW joined as\n",
    "WITH num AS (\n",
    "    SELECT MOD(row_number() over () - 1, $n_rows) + 1 AS row_in_group, *\n",
    "    FROM design\n",
    ")\n",
    "SELECT n.trial_id, s1.transaction_amt, s2.cmte_nm\n",
    "    FROM sample s1, sample s2, num n \n",
    "    WHERE n.row_id = s1.row_id\n",
    "    AND s2.row_id = n.row_in_group\n",
    "'''\n",
    "\n",
    "query = string.Template(query).substitute(locals())\n",
    "%sql drop view if exists joined cascade\n",
    "%sql SET SEED TO $seed\n",
    "%sql $query\n",
    "%sql select * from joined limit 10"
   ]
  },
  {
   "cell_type": "markdown",
   "metadata": {},
   "source": [
    "For the 1000 trials, I am then able to calculate the number of small donors by candidate. This results in 2000 rows, 2 per trial. \n",
    "\n",
    "I will then calculate the observed statistic, as I did previously, for each of the 1000 trials. "
   ]
  },
  {
   "cell_type": "code",
   "execution_count": 129,
   "metadata": {},
   "outputs": [
    {
     "name": "stdout",
     "output_type": "stream",
     "text": [
      "Done.\n",
      "2000 rows affected.\n"
     ]
    },
    {
     "data": {
      "text/html": [
       "<div>\n",
       "<style>\n",
       "    .dataframe thead tr:only-child th {\n",
       "        text-align: right;\n",
       "    }\n",
       "\n",
       "    .dataframe thead th {\n",
       "        text-align: left;\n",
       "    }\n",
       "\n",
       "    .dataframe tbody tr th {\n",
       "        vertical-align: top;\n",
       "    }\n",
       "</style>\n",
       "<table border=\"1\" class=\"dataframe\">\n",
       "  <thead>\n",
       "    <tr style=\"text-align: right;\">\n",
       "      <th></th>\n",
       "      <th>stats</th>\n",
       "    </tr>\n",
       "  </thead>\n",
       "  <tbody>\n",
       "    <tr>\n",
       "      <th>0</th>\n",
       "      <td>-0.002325</td>\n",
       "    </tr>\n",
       "    <tr>\n",
       "      <th>1</th>\n",
       "      <td>0.005828</td>\n",
       "    </tr>\n",
       "    <tr>\n",
       "      <th>2</th>\n",
       "      <td>-0.010477</td>\n",
       "    </tr>\n",
       "    <tr>\n",
       "      <th>3</th>\n",
       "      <td>-0.043086</td>\n",
       "    </tr>\n",
       "    <tr>\n",
       "      <th>4</th>\n",
       "      <td>0.005828</td>\n",
       "    </tr>\n",
       "    <tr>\n",
       "      <th>5</th>\n",
       "      <td>0.013980</td>\n",
       "    </tr>\n",
       "    <tr>\n",
       "      <th>6</th>\n",
       "      <td>-0.018629</td>\n",
       "    </tr>\n",
       "    <tr>\n",
       "      <th>7</th>\n",
       "      <td>-0.002325</td>\n",
       "    </tr>\n",
       "    <tr>\n",
       "      <th>8</th>\n",
       "      <td>0.022133</td>\n",
       "    </tr>\n",
       "    <tr>\n",
       "      <th>9</th>\n",
       "      <td>0.005828</td>\n",
       "    </tr>\n",
       "  </tbody>\n",
       "</table>\n",
       "</div>"
      ],
      "text/plain": [
       "      stats\n",
       "0 -0.002325\n",
       "1  0.005828\n",
       "2 -0.010477\n",
       "3 -0.043086\n",
       "4  0.005828\n",
       "5  0.013980\n",
       "6 -0.018629\n",
       "7 -0.002325\n",
       "8  0.022133\n",
       "9  0.005828"
      ]
     },
     "execution_count": 129,
     "metadata": {},
     "output_type": "execute_result"
    }
   ],
   "source": [
    "query = '''\n",
    "WITH marked AS (\n",
    "    SELECT  *,\n",
    "        transaction_amt <= 200 AS small \n",
    "    FROM joined\n",
    ")\n",
    "SELECT trial_id, cmte_nm,\n",
    "    count(CASE WHEN small THEN 1 END) AS small,\n",
    "    COUNT(*) AS total\n",
    "FROM marked\n",
    "GROUP BY trial_id, cmte_nm\n",
    "ORDER BY trial_id, cmte_nm\n",
    "'''\n",
    "\n",
    "query = string.Template(query).substitute(locals())\n",
    "%sql SET SEED TO $seed\n",
    "%sql $query\n",
    "\n",
    "df = pd.DataFrame(connection.execute(query).fetchall(),\n",
    "                      columns=['trial_id', 'cmte_nm', 'small', 'total'])\n",
    "\n",
    "trials = []\n",
    "i = 1\n",
    "while i < len(df):\n",
    "    trials.append((df.iloc[i]['small']/df.iloc[i]['total']) - (df.iloc[i-1]['small']/df.iloc[i-1]['total']))\n",
    "    i += 2\n",
    "trials = pd.DataFrame(trials, columns=['stats'])\n",
    "trials[0:10]"
   ]
  },
  {
   "cell_type": "markdown",
   "metadata": {},
   "source": [
    "Using Seaborn's displot tool, I can plot the observed statistic on each of the 1000 trials and compare them with the actual statistic, represeted by the 2 vertical red lines. "
   ]
  },
  {
   "cell_type": "code",
   "execution_count": 137,
   "metadata": {},
   "outputs": [
    {
     "data": {
      "image/png": "[encoded data removed]",
      "text/plain": [
       "<matplotlib.figure.Figure at 0x1173cf128>"
      ]
     },
     "metadata": {},
     "output_type": "display_data"
    }
   ],
   "source": [
    "sns.distplot(trials['stats'])\n",
    "plt.axvline(x=observed_stat, color='r')\n",
    "plt.axvline(x= -observed_stat, color='r')\n",
    "plt.show()"
   ]
  },
  {
   "cell_type": "markdown",
   "metadata": {},
   "source": [
    "To compute the $p$-value based on the test statistics generated through the shuffled samples.  I need to find the proportion of the 1000 test statistics that are at least as large in absolute value as the observed statistic."
   ]
  },
  {
   "cell_type": "code",
   "execution_count": 140,
   "metadata": {},
   "outputs": [
    {
     "data": {
      "text/plain": [
       "0.127"
      ]
     },
     "execution_count": 140,
     "metadata": {},
     "output_type": "execute_result"
    }
   ],
   "source": [
    "stats = [abs(i) >= observed_stat for i in trials['stats']]\n",
    "p_value = 1 - (sum(stats)/len(trials['stats']))\n",
    "p_value"
   ]
  },
  {
   "cell_type": "markdown",
   "metadata": {},
   "source": [
    "Based on the p-value, I cannot reject the null hypothesis using a cutoff of 5%. The observed variation is large and therefore I cannot assume that the variation is due to chance. Rejecting the null hypothesis concludes that the proportion of small donors for Hillary Clinton and Bernie Sanders is not equal."
   ]
  }
 ],
 "metadata": {
  "kernelspec": {
   "display_name": "Python 3",
   "language": "python",
   "name": "python3"
  },
  "language_info": {
   "codemirror_mode": {
    "name": "ipython",
    "version": 3
   },
   "file_extension": ".py",
   "mimetype": "text/x-python",
   "name": "python",
   "nbconvert_exporter": "python",
   "pygments_lexer": "ipython3",
   "version": "3.6.1"
  }
 },
 "nbformat": 4,
 "nbformat_minor": 2
}
